{
  "nbformat": 4,
  "nbformat_minor": 0,
  "metadata": {
    "colab": {
      "name": "ShadowSense_CNN.ipynb",
      "provenance": [],
      "collapsed_sections": [],
      "toc_visible": true,
      "include_colab_link": true
    },
    "language_info": {
      "codemirror_mode": {
        "name": "ipython",
        "version": 3
      },
      "file_extension": ".py",
      "mimetype": "text/x-python",
      "name": "python",
      "nbconvert_exporter": "python",
      "pygments_lexer": "ipython3",
      "version": "3.6.4"
    },
    "kernelspec": {
      "name": "python3",
      "display_name": "Python 3"
    },
    "accelerator": "GPU"
  },
  "cells": [
    {
      "cell_type": "markdown",
      "metadata": {
        "id": "view-in-github",
        "colab_type": "text"
      },
      "source": [
        "<a href=\"https://colab.research.google.com/github/yuhanhu/git-example/blob/master/ShadowSense_CNN.ipynb\" target=\"_parent\"><img src=\"https://colab.research.google.com/assets/colab-badge.svg\" alt=\"Open In Colab\"/></a>"
      ]
    },
    {
      "cell_type": "code",
      "metadata": {
        "id": "TCx9LeeDeVSa",
        "colab": {
          "base_uri": "https://localhost:8080/",
          "height": 122
        },
        "outputId": "eb136a76-75f1-459a-c4a0-296e48c8c7ad"
      },
      "source": [
        "from google.colab import drive\n",
        "drive.mount('/content/gdrive')"
      ],
      "execution_count": null,
      "outputs": [
        {
          "output_type": "stream",
          "text": [
            "Go to this URL in a browser: https://accounts.google.com/o/oauth2/auth?client_id=947318989803-6bn6qk8qdgf4n4g3pfee6491hc0brc4i.apps.googleusercontent.com&redirect_uri=urn%3aietf%3awg%3aoauth%3a2.0%3aoob&response_type=code&scope=email%20https%3a%2f%2fwww.googleapis.com%2fauth%2fdocs.test%20https%3a%2f%2fwww.googleapis.com%2fauth%2fdrive%20https%3a%2f%2fwww.googleapis.com%2fauth%2fdrive.photos.readonly%20https%3a%2f%2fwww.googleapis.com%2fauth%2fpeopleapi.readonly\n",
            "\n",
            "Enter your authorization code:\n",
            "··········\n",
            "Mounted at /content/gdrive\n"
          ],
          "name": "stdout"
        }
      ]
    },
    {
      "cell_type": "markdown",
      "metadata": {
        "id": "mAg5bvjjTcbS"
      },
      "source": [
        " **Upload Files under Files/**"
      ]
    },
    {
      "cell_type": "markdown",
      "metadata": {
        "id": "SZsgir_pTMoY"
      },
      "source": [
        "# **Unzip files**"
      ]
    },
    {
      "cell_type": "code",
      "metadata": {
        "id": "U02CHud4tjPe",
        "colab": {
          "base_uri": "https://localhost:8080/",
          "height": 34
        },
        "outputId": "02f73bc8-a32d-47e1-b616-4e71414326bb"
      },
      "source": [
        "# from zipfile import ZipFile\n",
        "# filename = \"data.zip\"\n",
        "\n",
        "# with ZipFile(filename,'r') as zip:\n",
        "#   zip.extractall()\n",
        "  \n",
        "#   print('Done')"
      ],
      "execution_count": null,
      "outputs": [
        {
          "output_type": "stream",
          "text": [
            "Done\n"
          ],
          "name": "stdout"
        }
      ]
    },
    {
      "cell_type": "code",
      "metadata": {
        "id": "-otJjn1_UOYB",
        "colab": {
          "base_uri": "https://localhost:8080/",
          "height": 34
        },
        "outputId": "cfc0d49b-49ec-4682-9913-60ad59f57a34"
      },
      "source": [
        "from zipfile import ZipFile\n",
        "filename = \"gdrive/My Drive/data_combined.zip\"\n",
        "\n",
        "with ZipFile(filename,'r') as zip:\n",
        "  zip.extractall()\n",
        "  \n",
        "  print('Done')"
      ],
      "execution_count": null,
      "outputs": [
        {
          "output_type": "stream",
          "text": [
            "Done\n"
          ],
          "name": "stdout"
        }
      ]
    },
    {
      "cell_type": "code",
      "metadata": {
        "id": "2ZyipWDaTW52",
        "colab": {
          "base_uri": "https://localhost:8080/",
          "height": 34
        },
        "outputId": "cfd8af74-fa5f-4894-f32a-1c8dddfb1267"
      },
      "source": [
        "# from zipfile import ZipFile\n",
        "# filename = \"data/night.zip\"\n",
        "# #filename = \"5_classes.zip\"\n",
        "\n",
        "# with ZipFile(filename,'r') as zip:\n",
        "#   zip.extractall()\n",
        "  \n",
        "#   print('Done')"
      ],
      "execution_count": null,
      "outputs": [
        {
          "output_type": "stream",
          "text": [
            "Done\n"
          ],
          "name": "stdout"
        }
      ]
    },
    {
      "cell_type": "code",
      "metadata": {
        "id": "uKj0MXsQdrbd",
        "colab": {
          "base_uri": "https://localhost:8080/",
          "height": 34
        },
        "outputId": "e2baeefc-b628-4fb6-87f3-718b8098aeb7"
      },
      "source": [
        "# from zipfile import ZipFile\n",
        "# filename = \"data/daylight.zip\"\n",
        "# #filename = \"5_classes.zip\"\n",
        "\n",
        "# with ZipFile(filename,'r') as zip:\n",
        "#   zip.extractall()\n",
        "#   print('Done')"
      ],
      "execution_count": null,
      "outputs": [
        {
          "output_type": "stream",
          "text": [
            "Done\n"
          ],
          "name": "stdout"
        }
      ]
    },
    {
      "cell_type": "code",
      "metadata": {
        "id": "Xbq2_AdEA3kJ",
        "colab": {
          "base_uri": "https://localhost:8080/",
          "height": 34
        },
        "outputId": "f73697e5-5f36-4f66-dba0-78c571a2e160"
      },
      "source": [
        "# from zipfile import ZipFile\n",
        "# filename = \"data/dusk.zip\"\n",
        "# #filename = \"5_classes.zip\"\n",
        "\n",
        "# with ZipFile(filename,'r') as zip:\n",
        "#   zip.extractall()\n",
        "#   print('Done')"
      ],
      "execution_count": null,
      "outputs": [
        {
          "output_type": "stream",
          "text": [
            "Done\n"
          ],
          "name": "stdout"
        }
      ]
    },
    {
      "cell_type": "markdown",
      "metadata": {
        "id": "G1ZzEBLRISsD"
      },
      "source": [
        "# **Import data and Preprocess them**"
      ]
    },
    {
      "cell_type": "code",
      "metadata": {
        "id": "kepKgRXOa-x3"
      },
      "source": [
        "# !rm -r *\n",
        "# !gdown --id 1wE-YVVccXDPkzTx65RuwXA3IDGi5pmhi\n",
        "# !unzip codes.zip\n",
        "# !rm -r __MACOSX\n"
      ],
      "execution_count": null,
      "outputs": []
    },
    {
      "cell_type": "code",
      "metadata": {
        "id": "mZBI6O63WN-N"
      },
      "source": [
        "import matplotlib.pyplot as plt\n",
        "import numpy as np\n",
        "import torch\n",
        "from torch import nn\n",
        "from torch import optim\n",
        "import torch.nn.functional as F\n",
        "from torchvision import datasets, transforms, models,utils\n",
        "from torch.utils.data import DataLoader\n",
        "from PIL import Image\n",
        "import os"
      ],
      "execution_count": null,
      "outputs": []
    },
    {
      "cell_type": "code",
      "metadata": {
        "id": "jlCzSth8hiHy",
        "colab": {
          "base_uri": "https://localhost:8080/",
          "height": 34
        },
        "outputId": "fcc46389-9fff-4719-c494-245228a2643d"
      },
      "source": [
        "train_on_gpu = torch.cuda.is_available()\n",
        "\n",
        "if not train_on_gpu:\n",
        "    print('CUDA is not available.  Training on CPU ...')\n",
        "else:\n",
        "    print('CUDA is available!  Training on GPU ...')\n"
      ],
      "execution_count": null,
      "outputs": [
        {
          "output_type": "stream",
          "text": [
            "CUDA is available!  Training on GPU ...\n"
          ],
          "name": "stdout"
        }
      ]
    },
    {
      "cell_type": "markdown",
      "metadata": {
        "id": "5OGLCy8weXah"
      },
      "source": [
        "## **Clean temperary files**"
      ]
    },
    {
      "cell_type": "code",
      "metadata": {
        "id": "1KjoClOaZk9z"
      },
      "source": [
        "import os, shutil\n",
        "shutil.rmtree('data_group')\n",
        "# shutil.rmtree('testset')"
      ],
      "execution_count": null,
      "outputs": []
    },
    {
      "cell_type": "markdown",
      "metadata": {
        "id": "60ahHE_OepGC"
      },
      "source": [
        "# **Split Train/Test Files**"
      ]
    },
    {
      "cell_type": "code",
      "metadata": {
        "id": "fkhoGm2pWTX-"
      },
      "source": [
        "import os, shutil\n",
        "#os.chdir('./')\n",
        "#os.rmdir('data_group')\n",
        "#shutil.rmtree('data_group')\n",
        "os.mkdir('data_group')\n",
        "os.mkdir('data_group/train')\n",
        "os.mkdir('data_group/test1')\n",
        "os.mkdir('data_group/test2')\n",
        "os.mkdir('data_group/validation')"
      ],
      "execution_count": null,
      "outputs": []
    },
    {
      "cell_type": "code",
      "metadata": {
        "id": "gCBE5ALv1gwF"
      },
      "source": [
        "#os.mkdir('data_group/test2')"
      ],
      "execution_count": null,
      "outputs": []
    },
    {
      "cell_type": "code",
      "metadata": {
        "id": "M9Wxfxl8X12a"
      },
      "source": [
        "\n",
        "# from shutil import copyfile\n",
        "# from google.colab.patches import cv2_imshow\n",
        "#i=1\n",
        "#copyfile('data_combined/train/2hands/daylight_100_1.jpg', 'data_group/train/'+str(i)+'.jpg')\n"
      ],
      "execution_count": null,
      "outputs": []
    },
    {
      "cell_type": "markdown",
      "metadata": {
        "id": "t2luuxB7zoBX"
      },
      "source": [
        "# **Split Test by Lighting Condition**"
      ]
    },
    {
      "cell_type": "code",
      "metadata": {
        "id": "r4aPyJrkztpZ",
        "colab": {
          "base_uri": "https://localhost:8080/",
          "height": 34
        },
        "outputId": "50761c8a-390a-4bec-ea27-44c40c663533"
      },
      "source": [
        "# import os, shutil\n",
        "# from shutil import copyfile\n",
        "\n",
        "# os.mkdir('testset')\n",
        "# os.mkdir('testset/daylight')\n",
        "# os.mkdir('testset/dusk')\n",
        "# os.mkdir('testset/night')\n",
        "\n",
        "# for f in os.listdir('data_combined/test/'):\n",
        "#   if f.endswith('.DS_Store'):\n",
        "#     continue\n",
        "#   os.mkdir('testset/daylight/'+f)\n",
        "#   os.mkdir('testset/dusk/'+f)\n",
        "#   os.mkdir('testset/night/'+f)\n",
        "#   i1 = 0\n",
        "#   i2 = 0\n",
        "#   i3 = 0\n",
        "#   for ff in os.listdir('data_combined/test/'+f):\n",
        "#     if ff.startswith('daylight'):\n",
        "#       copyfile('data_combined/test/'+ f +'/'+ff, 'testset/daylight/'+ f +'/_day_'+ str(i1)+'.jpg')\n",
        "#       i1 = i1+1\n",
        "#     if ff.startswith('dusk'):\n",
        "#       copyfile('data_combined/test/'+ f +'/'+ff, 'testset/dusk/'+ f +'/_dusk_'+ str(i2)+'.jpg')\n",
        "#       i2 = i2+1\n",
        "#     if ff.startswith('night'):\n",
        "#       copyfile('data_combined/test/'+ f +'/'+ff, 'testset/night/'+ f +'/_night_'+ str(i3)+'.jpg')\n",
        "#       i3 = i3+1\n",
        "\n",
        "# print('Done')"
      ],
      "execution_count": null,
      "outputs": [
        {
          "output_type": "stream",
          "text": [
            "Done\n"
          ],
          "name": "stdout"
        }
      ]
    },
    {
      "cell_type": "markdown",
      "metadata": {
        "id": "jQUtF6OMjcuA"
      },
      "source": [
        "# **Hold out Lighting**"
      ]
    },
    {
      "cell_type": "code",
      "metadata": {
        "id": "aTI9wtiGwTXN",
        "colab": {
          "base_uri": "https://localhost:8080/",
          "height": 34
        },
        "outputId": "e9ed9234-4fcb-49fd-8a19-163fd72c487c"
      },
      "source": [
        "from shutil import copyfile\n",
        "\n",
        "for f in os.listdir('data_combined/train/'):\n",
        "  if f.endswith('.DS_Store'):\n",
        "    continue\n",
        "  os.mkdir('data_group/train/'+f)\n",
        "  os.mkdir('data_group/test1/'+f)\n",
        "  os.mkdir('data_group/test2/'+f)\n",
        "  i1 = 0\n",
        "  i2 = 0\n",
        "  i3 = 0\n",
        "  for ff in os.listdir('data_combined/train/'+f):\n",
        "    if ff.startswith('night'):\n",
        "      copyfile('data_combined/train/'+ f +'/'+ff, 'data_group/train/'+ f +'/_day_'+ str(i1)+'.jpg')\n",
        "      i1 = i1+1\n",
        "      #print(ff)\n",
        "    if ff.startswith('daylight'):\n",
        "      copyfile('data_combined/train/'+ f +'/'+ff, 'data_group/test1/'+ f +'/_dusk_'+ str(i2)+'.jpg')\n",
        "      i2 = i2+1\n",
        "    if ff.startswith('dusk'):\n",
        "    #if ff.endswith('_3.jpg') and ff.startswith('daylight'):\n",
        "      copyfile('data_combined/train/'+ f +'/'+ff, 'data_group/test2/'+ f +'/_night_'+ str(i3)+'.jpg')\n",
        "      i3 = i3+1\n",
        "      #print(ff)\n",
        "print('Done')"
      ],
      "execution_count": null,
      "outputs": [
        {
          "output_type": "stream",
          "text": [
            "Done\n"
          ],
          "name": "stdout"
        }
      ]
    },
    {
      "cell_type": "code",
      "metadata": {
        "id": "nz--kzJrimDX",
        "colab": {
          "base_uri": "https://localhost:8080/",
          "height": 34
        },
        "outputId": "47c8fdf4-10bc-4f8a-a876-b91c0b61dc7b"
      },
      "source": [
        "for f in os.listdir('data_combined/test/'):\n",
        "  if f.endswith('.DS_Store'):\n",
        "    continue\n",
        "  os.mkdir('data_group/validation/'+f)\n",
        "  for ff in os.listdir('data_combined/test/'+f):\n",
        "    if ff.startswith('night'):\n",
        "      copyfile('data_combined/test/'+ f +'/'+ff, 'data_group/validation/'+ f +'/_day_'+ str(i1)+'.jpg')\n",
        "      i1 = i1+1\n",
        "    if ff.startswith('daylight'):\n",
        "      copyfile('data_combined/test/'+ f +'/'+ff, 'data_group/test1/'+ f +'/_dusk_'+ str(i2)+'.jpg')\n",
        "      i2 = i2+1\n",
        "    if ff.startswith('dusk'):\n",
        "      copyfile('data_combined/test/'+ f +'/'+ff, 'data_group/test2/'+ f +'/_night_'+ str(i3)+'.jpg')\n",
        "      i3 = i3+1\n",
        "print('Done')"
      ],
      "execution_count": null,
      "outputs": [
        {
          "output_type": "stream",
          "text": [
            "Done\n"
          ],
          "name": "stdout"
        }
      ]
    },
    {
      "cell_type": "code",
      "metadata": {
        "id": "FFHh4GNfi7k_",
        "colab": {
          "base_uri": "https://localhost:8080/",
          "height": 34
        },
        "outputId": "7df56f9b-3957-458d-aea8-212b749b8309"
      },
      "source": [
        "#count file numbers\n",
        "import os\n",
        "count = 0\n",
        "d = \"data_group/test2/hugging\"\n",
        "#d = \"data_combined/test/punch\"\n",
        "for path in os.listdir(d):\n",
        "    if os.path.isfile(os.path.join(d, path)):\n",
        "        count += 1\n",
        "print(count)"
      ],
      "execution_count": null,
      "outputs": [
        {
          "output_type": "stream",
          "text": [
            "340\n"
          ],
          "name": "stdout"
        }
      ]
    },
    {
      "cell_type": "markdown",
      "metadata": {
        "id": "Wtf7wQUy6bCR"
      },
      "source": [
        "# **Hold Out User**"
      ]
    },
    {
      "cell_type": "code",
      "metadata": {
        "id": "pI7pAyp_6fur"
      },
      "source": [
        "from shutil import copyfile\n",
        "\n",
        "for f in os.listdir('data_combined/train/'):\n",
        "  if f.endswith('.DS_Store'):\n",
        "    continue\n",
        "  os.mkdir('data_group/train/'+f)\n",
        "  os.mkdir('data_group/test/'+f)\n",
        "  i1 = 0\n",
        "  i2 = 0\n",
        "  i3 = 0\n",
        "  i4 = 0\n",
        "  for ff in os.listdir('data_combined/train/'+f):\n",
        "    if ff.endswith('_4.jpg'):\n",
        "      copyfile('data_combined/train/'+ f +'/'+ff, 'data_group/train/'+ f +'/_1_'+ str(i1)+'.jpg')\n",
        "      i1 = i1+1\n",
        "      #print(ff)\n",
        "    if ff.endswith('_2.jpg'):\n",
        "      copyfile('data_combined/train/'+ f +'/'+ff, 'data_group/train/'+ f +'/_2_'+ str(i2)+'.jpg')\n",
        "      i2 = i2+1\n",
        "      #print(ff)\n",
        "    if ff.endswith('_3.jpg'):\n",
        "      copyfile('data_combined/train/'+ f +'/'+ff, 'data_group/train/'+ f +'/_3_'+ str(i3)+'.jpg')\n",
        "      i3 = i3+1\n",
        "      #print(ff)\n",
        "    if ff.endswith('_1.jpg'):\n",
        "    #if ff.endswith('_3.jpg') and ff.startswith('daylight'):\n",
        "      copyfile('data_combined/train/'+ f +'/'+ff, 'data_group/test/'+ f +'/_4_'+ str(i4)+'.jpg')\n",
        "      i4 = i4+1\n",
        "      #print(ff)\n",
        "print('Done')"
      ],
      "execution_count": null,
      "outputs": []
    },
    {
      "cell_type": "code",
      "metadata": {
        "id": "5124rRs17ExY"
      },
      "source": [
        "for f in os.listdir('data_combined/test/'):\n",
        "  if f.endswith('.DS_Store'):\n",
        "    continue\n",
        "  os.mkdir('data_group/validation/'+f)\n",
        "  for ff in os.listdir('data_combined/test/'+f):\n",
        "    if ff.endswith('_4.jpg'):\n",
        "      copyfile('data_combined/test/'+ f +'/'+ff, 'data_group/validation/'+ f +'/_1_'+ str(i1)+'.jpg')\n",
        "      i1 = i1+1\n",
        "      #print(ff)\n",
        "    if ff.endswith('_2.jpg'):\n",
        "      copyfile('data_combined/test/'+ f +'/'+ff, 'data_group/validation/'+ f +'/_2_'+ str(i2)+'.jpg')\n",
        "      i2 = i2+1\n",
        "      #print(ff)\n",
        "    if ff.endswith('_3.jpg'):\n",
        "      copyfile('data_combined/test/'+ f +'/'+ff, 'data_group/validation/'+ f +'/_3_'+ str(i3)+'.jpg')\n",
        "      i3 = i3+1\n",
        "      #print(ff)\n",
        "    if ff.endswith('_1.jpg'):\n",
        "      copyfile('data_combined/test/'+ f +'/'+ff, 'data_group/test/'+ f +'/_4_'+ str(i4)+'.jpg')\n",
        "      i4 = i4+1\n",
        "      #print(ff)\n",
        "print('Done')"
      ],
      "execution_count": null,
      "outputs": []
    },
    {
      "cell_type": "code",
      "metadata": {
        "id": "5Jgm8e5W7GhP"
      },
      "source": [
        "#count file numbers\n",
        "import os\n",
        "count = 0\n",
        "d = \"data_group/test/nothing\"\n",
        "#d = \"data_combined/test/punch\"\n",
        "for path in os.listdir(d):\n",
        "    if os.path.isfile(os.path.join(d, path)):\n",
        "        count += 1\n",
        "print(count)"
      ],
      "execution_count": null,
      "outputs": []
    },
    {
      "cell_type": "markdown",
      "metadata": {
        "id": "ihRwAhw4gxkk"
      },
      "source": [
        "# **Import Data**"
      ]
    },
    {
      "cell_type": "code",
      "metadata": {
        "id": "EpbE4r6zkne9",
        "colab": {
          "base_uri": "https://localhost:8080/",
          "height": 34
        },
        "outputId": "94d23562-553d-445d-8589-e6ee2b27138a"
      },
      "source": [
        "# data_dir = 'night/train/'\n",
        "# validation_dir = 'night/test/'\n",
        "\n",
        "\n",
        "# data_dir = 'data_combined/train/'\n",
        "# validation_dir = 'data_combined/test/'\n",
        "\n",
        "# test_dir = 'testset/night/'\n",
        "\n",
        "data_dir = 'data_group/train/'\n",
        "validation_dir = 'data_group/validation/'\n",
        "test_dir = 'data_group/test1/'\n",
        "\n",
        "mean=[0.485, 0.456, 0.406]\n",
        "std=[0.229, 0.224, 0.225]      \n",
        "\n",
        "image_transforms = transforms.Compose([\n",
        "        transforms.Resize(size=(318,235)), # Image net standards\n",
        "        transforms.Lambda(lambda img: transforms.functional.crop(img, 10,40,220,150)),\n",
        "        transforms.Lambda(lambda img: transforms.functional.adjust_contrast(img, 3)),\n",
        "        transforms.ToTensor(),\n",
        "        transforms.Normalize(mean,\n",
        "                             std)  # Imagenet standards\n",
        "    ])\n",
        "\n",
        "image_datasets  =  datasets.ImageFolder(root=data_dir, transform=image_transforms)\n",
        "\n",
        "validation_datasets  =  datasets.ImageFolder(root=validation_dir, transform=image_transforms)\n",
        "\n",
        "test_datasets  =  datasets.ImageFolder(root=test_dir, transform=image_transforms)\n",
        "\n",
        "#train set\n",
        "#validation_split = .3\n",
        "shuffle_dataset = True\n",
        "random_seed= 42\n",
        "\n",
        "dataset_size = len(image_datasets)\n",
        "indices = list(range(dataset_size))\n",
        "\n",
        "val_size = len(validation_datasets)\n",
        "indices_val = list(range(val_size))\n",
        "\n",
        "test_size = len(test_datasets)\n",
        "indices_test = list(range(test_size))\n",
        "\n",
        "#split = int(np.floor(validation_split * dataset_size))\n",
        "if shuffle_dataset :\n",
        "    np.random.seed(random_seed)\n",
        "    np.random.shuffle(indices)\n",
        "    np.random.shuffle(indices_val)\n",
        "    np.random.shuffle(indices_test)\n",
        "train_indices, val_indices, test_indices = indices, indices_val, indices_test\n",
        "\n",
        "\n",
        "from torch.utils.data.sampler import SubsetRandomSampler\n",
        "\n",
        "train_sampler = SubsetRandomSampler(train_indices)\n",
        "valid_sampler = SubsetRandomSampler(val_indices)\n",
        "test_sampler = SubsetRandomSampler(test_indices)\n",
        "\n",
        "# Dataloader iterators, make sure to shuffle\n",
        "dataloader_train = DataLoader(image_datasets, batch_size=16, sampler=train_sampler)\n",
        "\n",
        "dataloader_valid = DataLoader(validation_datasets, batch_size=16, sampler=valid_sampler)\n",
        "\n",
        "dataloader_test = DataLoader(test_datasets, batch_size=16, sampler=test_sampler)\n",
        "print(\"Done\")"
      ],
      "execution_count": null,
      "outputs": [
        {
          "output_type": "stream",
          "text": [
            "Done\n"
          ],
          "name": "stdout"
        }
      ]
    },
    {
      "cell_type": "markdown",
      "metadata": {
        "id": "-4Qm9crZUIxW"
      },
      "source": [
        "# **Show some samples of training data**"
      ]
    },
    {
      "cell_type": "code",
      "metadata": {
        "id": "qy8kc87hbFwK"
      },
      "source": [
        "def imshow(image, ax=None, title=None):\n",
        "    \"\"\"Imshow for Tensor.\"\"\"\n",
        "    if ax is None:\n",
        "        fig, ax = plt.subplots()\n",
        "    \n",
        "    # PyTorch tensors assume the color channel is the first dimension\n",
        "    # but matplotlib assumes is the third dimension\n",
        "    image = image.numpy().transpose((1, 2, 0))\n",
        "    \n",
        "    # Undo preprocessing\n",
        "    mean = np.array([0.485, 0.456, 0.406])\n",
        "    std = np.array([0.229, 0.224, 0.225])\n",
        "    image = std * image + mean\n",
        "    \n",
        "    # Image needs to be clipped between 0 and 1 or it looks like noise when displayed\n",
        "    image = np.clip(image, 0, 1)\n",
        "    \n",
        "    ax.imshow(image)\n",
        "    if title != None:\n",
        "      ax.set_title(title)\n",
        "    \n",
        "    return ax\n",
        "  \n",
        " "
      ],
      "execution_count": null,
      "outputs": []
    },
    {
      "cell_type": "code",
      "metadata": {
        "id": "ue23VdcQffmU",
        "colab": {
          "base_uri": "https://localhost:8080/",
          "height": 34
        },
        "outputId": "bb71bef6-d34d-43e0-e282-3355f02fbc8e"
      },
      "source": [
        "validation_datasets.classes\n",
        "#len(image_datasets.classes)"
      ],
      "execution_count": null,
      "outputs": [
        {
          "output_type": "execute_result",
          "data": {
            "text/plain": [
              "['2hands', 'hugging', 'nothing', 'palm', 'point', 'punch']"
            ]
          },
          "metadata": {
            "tags": []
          },
          "execution_count": 131
        }
      ]
    },
    {
      "cell_type": "code",
      "metadata": {
        "id": "XNAfa69dbinC",
        "colab": {
          "base_uri": "https://localhost:8080/",
          "height": 139
        },
        "outputId": "9b0613e5-cf21-4794-e68e-64a24c3000c5"
      },
      "source": [
        "# obtain one batch of training images\n",
        "dataiter = iter(dataloader_train)\n",
        "images, labels = dataiter.next()\n",
        "\n",
        "# plot the images in the batch, along with the corresponding labels\n",
        "fig = plt.figure(figsize=(25, 4))\n",
        "# display 20 images\n",
        "for idx in np.arange(10):\n",
        "    ax = fig.add_subplot(2, 20/2, idx+1, xticks=[], yticks=[])\n",
        "    imshow(images[idx],ax)\n",
        "    ax.set_title(str(labels[idx])+\" \"+image_datasets.classes[labels[idx]])"
      ],
      "execution_count": null,
      "outputs": [
        {
          "output_type": "display_data",
          "data": {
            "image/png": "[encoded data removed]",
            "text/plain": [
              "<Figure size 1800x288 with 10 Axes>"
            ]
          },
          "metadata": {
            "tags": []
          }
        }
      ]
    },
    {
      "cell_type": "markdown",
      "metadata": {
        "id": "vUJXpQH0UR27"
      },
      "source": [
        "# **Download the pretrained model**"
      ]
    },
    {
      "cell_type": "code",
      "metadata": {
        "id": "EsT6TqVofWqQ"
      },
      "source": [
        "model = models.densenet161(pretrained=True)\n",
        "#print(model)"
      ],
      "execution_count": null,
      "outputs": []
    },
    {
      "cell_type": "code",
      "metadata": {
        "id": "56FnAO7ejLxV",
        "colab": {
          "base_uri": "https://localhost:8080/",
          "height": 221
        },
        "outputId": "3bdca009-0884-4114-b495-d708ff590953"
      },
      "source": [
        "for name in model.children():\n",
        "  for child, config in name.named_children():\n",
        "    print(str(child) + ' is frozen')\n",
        "    for param in config.parameters():\n",
        "          param.requires_grad = False\n",
        "\n",
        "from collections import OrderedDict\n",
        "classifier = nn.Sequential(OrderedDict([('fc1', nn.Linear(2208, 512)),\n",
        "                                        ('relu1', nn.ReLU()),\n",
        "                                        ('dropout1', nn.Dropout(0.3)),\n",
        "                                         ('fc3', nn.Linear(512, 6)),\n",
        "                                        ('output', nn.LogSoftmax(dim=1))]))\n",
        "\n"
      ],
      "execution_count": null,
      "outputs": [
        {
          "output_type": "stream",
          "text": [
            "conv0 is frozen\n",
            "norm0 is frozen\n",
            "relu0 is frozen\n",
            "pool0 is frozen\n",
            "denseblock1 is frozen\n",
            "transition1 is frozen\n",
            "denseblock2 is frozen\n",
            "transition2 is frozen\n",
            "denseblock3 is frozen\n",
            "transition3 is frozen\n",
            "denseblock4 is frozen\n",
            "norm5 is frozen\n"
          ],
          "name": "stdout"
        }
      ]
    },
    {
      "cell_type": "code",
      "metadata": {
        "id": "bh54cWxYqNJO"
      },
      "source": [
        "model.classifier=classifier"
      ],
      "execution_count": null,
      "outputs": []
    },
    {
      "cell_type": "code",
      "metadata": {
        "id": "DTb6BiCyq2CW"
      },
      "source": [
        "#print(model)"
      ],
      "execution_count": null,
      "outputs": []
    },
    {
      "cell_type": "code",
      "metadata": {
        "id": "1NESqXvVsJEh"
      },
      "source": [
        "criterion = nn.NLLLoss()\n",
        "optimizer = optim.Adam(model.classifier.parameters())"
      ],
      "execution_count": null,
      "outputs": []
    },
    {
      "cell_type": "code",
      "metadata": {
        "id": "jS8WY0Jlsf-V"
      },
      "source": [
        "if train_on_gpu:\n",
        "    model=model.cuda()\n",
        "    \n",
        "checkpoint = \"shadow_Adam_densenet161\""
      ],
      "execution_count": null,
      "outputs": []
    },
    {
      "cell_type": "markdown",
      "metadata": {
        "id": "u1tIdImoUZuG"
      },
      "source": [
        "# **Training**"
      ]
    },
    {
      "cell_type": "code",
      "metadata": {
        "id": "goeDecBEvTDl",
        "colab": {
          "base_uri": "https://localhost:8080/",
          "height": 238
        },
        "outputId": "97530d55-7716-441d-937a-5517d19edf31"
      },
      "source": [
        "# number of epochs to train the model\n",
        "n_epochs = 10\n",
        "valid_loss_list = []\n",
        "train_loss_list = []\n",
        "train_accuracy = []\n",
        "valid_accuracy = []\n",
        "\n",
        "valid_loss_min = np.Inf # track change in validation loss\n",
        "\n",
        "for epoch in range(1, n_epochs+1):\n",
        "\n",
        "    # keep track of training and validation loss\n",
        "    train_loss = 0.0\n",
        "    valid_loss = 0.0\n",
        "    train_acc = 0\n",
        "    valid_acc = 0\n",
        "    n=0\n",
        "    ###################\n",
        "    # train the model #\n",
        "    ###################\n",
        "    model.train()\n",
        "    for data, target in dataloader_train:\n",
        "        # move tensors to GPU if CUDA is available\n",
        "        if train_on_gpu:\n",
        "            #print(data.shape)\n",
        "            #print(target.shape)\n",
        "            data, target = data.cuda(), target.cuda()\n",
        "        # clear the gradients of all optimized variables\n",
        "        optimizer.zero_grad()\n",
        "        # forward pass: compute predicted outputs by passing inputs to the model\n",
        "        output = model(data)\n",
        "        # calculate the batch loss\n",
        "        #print(target)\n",
        "        loss = criterion(output, target)\n",
        "        \n",
        "        ps = torch.exp(output)\n",
        "        top_p, top_class = ps.topk(1, dim=1)\n",
        "        equals = top_class == target.view(*top_class.shape)\n",
        "        train_acc += sum(equals.cpu().numpy())[0]\n",
        "        n+=len(equals)\n",
        "        \n",
        "        \n",
        "        # backward pass: compute gradient of the loss with respect to model parameters\n",
        "        loss.backward()\n",
        "        # perform a single optimization step (parameter update)\n",
        "        optimizer.step()\n",
        "        # update training loss\n",
        "        train_loss += loss.item()\n",
        "        \n",
        "    train_loss = train_loss/n\n",
        "    train_accu = train_acc/n\n",
        "    ######################    \n",
        "    # validate the model #\n",
        "    ######################\n",
        "    model.eval()\n",
        "    n=0\n",
        "    for data, target in dataloader_valid:\n",
        "        # move tensors to GPU if CUDA is available\n",
        "        if train_on_gpu:\n",
        "            data, target = data.cuda(), target.cuda()\n",
        "        # forward pass: compute predicted outputs by passing inputs to the model\n",
        "        output = model(data)\n",
        "        # calculate the batch loss\n",
        "        \n",
        "        ps = torch.exp(output)\n",
        "        top_p, top_class = ps.topk(1, dim=1)\n",
        "        equals = top_class == target.view(*top_class.shape)\n",
        "        valid_acc += sum(equals.cpu().numpy())[0]\n",
        "        \n",
        "        n+=len(equals)\n",
        "        \n",
        "        #print(target)\n",
        "        loss = criterion(output, target)\n",
        "        # update average validation loss \n",
        "        valid_loss += loss.item()\n",
        "    \n",
        "  \n",
        "    # calculate average losses\n",
        "    valid_loss = valid_loss/n\n",
        "    valid_accu = valid_acc/n\n",
        "    \n",
        "    \n",
        "    train_accuracy.append(train_accu)\n",
        "    valid_accuracy.append(valid_accu)\n",
        "    \n",
        "    valid_loss_list.append(valid_loss)\n",
        "    train_loss_list.append(train_loss)\n",
        "    \n",
        "    \n",
        "    \n",
        "    \n",
        "    # print training/validation statistics \n",
        "    print('Epoch: {} \\tTraining Loss: {:.6f} \\tValidation Loss: {:.6f} \\tTrain acc: {:.3f} \\tValid acc: {:.3f}'.format(\n",
        "        epoch, train_loss, valid_loss, train_accu, valid_accu))\n",
        "    \n",
        "    # save model if validation loss has decreased\n",
        "    if valid_loss <= valid_loss_min:\n",
        "        print('Validation loss decreased ({:.6f} --> {:.6f}).  Saving model ...'.format(\n",
        "        valid_loss_min,\n",
        "        valid_loss))\n",
        "        model.class_to_idx = image_datasets.class_to_idx\n",
        "        torch.save(model.state_dict(), checkpoint+\"epoch\"+str(epoch))\n",
        "        valid_loss_min = valid_loss"
      ],
      "execution_count": null,
      "outputs": [
        {
          "output_type": "stream",
          "text": [
            "Epoch: 1 \tTraining Loss: 0.063103 \tValidation Loss: 0.053977 \tTrain acc: 0.646 \tValid acc: 0.724\n",
            "Validation loss decreased (inf --> 0.053977).  Saving model ...\n",
            "Epoch: 2 \tTraining Loss: 0.028902 \tValidation Loss: 0.031605 \tTrain acc: 0.842 \tValid acc: 0.822\n",
            "Validation loss decreased (0.053977 --> 0.031605).  Saving model ...\n",
            "Epoch: 3 \tTraining Loss: 0.019496 \tValidation Loss: 0.024808 \tTrain acc: 0.896 \tValid acc: 0.861\n",
            "Validation loss decreased (0.031605 --> 0.024808).  Saving model ...\n",
            "Epoch: 4 \tTraining Loss: 0.017680 \tValidation Loss: 0.029296 \tTrain acc: 0.907 \tValid acc: 0.824\n",
            "Epoch: 5 \tTraining Loss: 0.018101 \tValidation Loss: 0.026005 \tTrain acc: 0.909 \tValid acc: 0.866\n",
            "Epoch: 6 \tTraining Loss: 0.015009 \tValidation Loss: 0.027632 \tTrain acc: 0.927 \tValid acc: 0.856\n",
            "Epoch: 7 \tTraining Loss: 0.013913 \tValidation Loss: 0.037734 \tTrain acc: 0.927 \tValid acc: 0.835\n",
            "Epoch: 8 \tTraining Loss: 0.010995 \tValidation Loss: 0.037226 \tTrain acc: 0.934 \tValid acc: 0.819\n",
            "Epoch: 9 \tTraining Loss: 0.010942 \tValidation Loss: 0.026514 \tTrain acc: 0.938 \tValid acc: 0.859\n",
            "Epoch: 10 \tTraining Loss: 0.009409 \tValidation Loss: 0.031032 \tTrain acc: 0.940 \tValid acc: 0.845\n"
          ],
          "name": "stdout"
        }
      ]
    },
    {
      "cell_type": "markdown",
      "metadata": {
        "id": "GumYugIhUi0s"
      },
      "source": [
        "# **Print results**"
      ]
    },
    {
      "cell_type": "code",
      "metadata": {
        "id": "BabVTIChx5bl",
        "colab": {
          "base_uri": "https://localhost:8080/",
          "height": 285
        },
        "outputId": "62d8cd28-a9d0-4efe-ea18-bdce31ea12e7"
      },
      "source": [
        "\n",
        "plt.plot(train_loss_list, label='Training loss')\n",
        "plt.plot(valid_loss_list, label='Validation loss')\n",
        "plt.legend(frameon=False)"
      ],
      "execution_count": null,
      "outputs": [
        {
          "output_type": "execute_result",
          "data": {
            "text/plain": [
              "<matplotlib.legend.Legend at 0x7fd7abbe9f28>"
            ]
          },
          "metadata": {
            "tags": []
          },
          "execution_count": 139
        },
        {
          "output_type": "display_data",
          "data": {
            "image/png": "[encoded data removed]",
            "text/plain": [
              "<Figure size 432x288 with 1 Axes>"
            ]
          },
          "metadata": {
            "tags": [],
            "needs_background": "light"
          }
        }
      ]
    },
    {
      "cell_type": "code",
      "metadata": {
        "id": "WEpTE-FtzPwR",
        "colab": {
          "base_uri": "https://localhost:8080/",
          "height": 34
        },
        "outputId": "f23e662e-9f16-4962-dd71-f8a08cdf2419"
      },
      "source": [
        "model.load_state_dict(torch.load(checkpoint+\"epoch3\"))"
      ],
      "execution_count": null,
      "outputs": [
        {
          "output_type": "execute_result",
          "data": {
            "text/plain": [
              "<All keys matched successfully>"
            ]
          },
          "metadata": {
            "tags": []
          },
          "execution_count": 140
        }
      ]
    },
    {
      "cell_type": "code",
      "metadata": {
        "id": "iSi9U_lIzx4x"
      },
      "source": [
        "def calculate_accuracy(loader):\n",
        "  accuracy = 0\n",
        "  with torch.no_grad():\n",
        "    model.eval()\n",
        "    for inputs, labels in loader:\n",
        "        if train_on_gpu:\n",
        "          inputs, labels = inputs.cuda(), labels.cuda()\n",
        "        logps = model.forward(inputs)\n",
        "        \n",
        "        # Calculate accuracy\n",
        "        ps = torch.exp(logps)\n",
        "        top_p, top_class = ps.topk(1, dim=1)\n",
        "        #print(top_class)\n",
        "        equals = top_class == labels.view(*top_class.shape)\n",
        "        #print(labels.view(*top_class.shape))\n",
        "        #print(top_class)\n",
        "        accuracy += torch.mean(equals.type(torch.FloatTensor)).item()\n",
        "  return accuracy/len(loader)"
      ],
      "execution_count": null,
      "outputs": []
    },
    {
      "cell_type": "code",
      "metadata": {
        "id": "sutJ9A8Oz7qA",
        "colab": {
          "base_uri": "https://localhost:8080/",
          "height": 34
        },
        "outputId": "97c8184c-d1f2-4f48-eced-cf6eedbd5b55"
      },
      "source": [
        "model = model.cuda()\n",
        "calculate_accuracy(dataloader_test)"
      ],
      "execution_count": null,
      "outputs": [
        {
          "output_type": "execute_result",
          "data": {
            "text/plain": [
              "0.1923828125"
            ]
          },
          "metadata": {
            "tags": []
          },
          "execution_count": 88
        }
      ]
    },
    {
      "cell_type": "markdown",
      "metadata": {
        "id": "swzVbtiT6jSv"
      },
      "source": [
        "# **Confusion Matrix**"
      ]
    },
    {
      "cell_type": "code",
      "metadata": {
        "id": "kQn1vvKWvr_F"
      },
      "source": [
        "def preds(loader):\n",
        "  flag = 0\n",
        "  for inputs, labels in loader:\n",
        "    if train_on_gpu:\n",
        "      inputs, labels = inputs.cuda(), labels.cuda()\n",
        "    logps = model.forward(inputs)\n",
        "    ps = torch.exp(logps)\n",
        "    top_p, top_class = ps.topk(1, dim=1)\n",
        "    if flag:\n",
        "      preds = torch.cat((preds,top_class),dim=0)\n",
        "      l = torch.cat((l,labels),dim=0)\n",
        "    else:\n",
        "      preds = top_class\n",
        "      l = labels\n",
        "    #print(top_class.shape)\n",
        "    #print(preds)\n",
        "    flag = 1\n",
        "  return preds, l "
      ],
      "execution_count": null,
      "outputs": []
    },
    {
      "cell_type": "code",
      "metadata": {
        "id": "IN0T25Cq3hb_",
        "colab": {
          "base_uri": "https://localhost:8080/",
          "height": 34
        },
        "outputId": "66fd44cb-12af-4a0e-8fd1-674082c9d73b"
      },
      "source": [
        "pred, label = preds(dataloader_test)\n",
        "pred = torch.flatten(pred)\n",
        "label = torch.flatten(label)\n",
        "print('Done')"
      ],
      "execution_count": null,
      "outputs": [
        {
          "output_type": "stream",
          "text": [
            "Done\n"
          ],
          "name": "stdout"
        }
      ]
    },
    {
      "cell_type": "code",
      "metadata": {
        "id": "krjVwx1C6Iij"
      },
      "source": [
        "# stacked = torch.stack(\n",
        "#     (\n",
        "#         pred\n",
        "#         ,label\n",
        "#     )\n",
        "#     ,dim=1\n",
        "# )"
      ],
      "execution_count": null,
      "outputs": []
    },
    {
      "cell_type": "code",
      "metadata": {
        "id": "AZCA_mTf6ZuM"
      },
      "source": [
        "# stacked.shape\n",
        "# print(stacked)"
      ],
      "execution_count": null,
      "outputs": []
    },
    {
      "cell_type": "code",
      "metadata": {
        "id": "4jnlRgkh6hBc"
      },
      "source": [
        "# cmt = torch.zeros(5,5,dtype=torch.int32)\n",
        "# cmt"
      ],
      "execution_count": null,
      "outputs": []
    },
    {
      "cell_type": "code",
      "metadata": {
        "id": "w0niqPi16vaA"
      },
      "source": [
        "# for p in stacked:\n",
        "#   tl, pl = p.tolist()\n",
        "#   cmt[tl,pl] = cmt[tl,pl] + 1"
      ],
      "execution_count": null,
      "outputs": []
    },
    {
      "cell_type": "code",
      "metadata": {
        "id": "9UpS-lhk7BOc"
      },
      "source": [
        "# cmt"
      ],
      "execution_count": null,
      "outputs": []
    },
    {
      "cell_type": "markdown",
      "metadata": {
        "id": "0HRwLntP7WEt"
      },
      "source": [
        "# **Plotting a confusion matrix**"
      ]
    },
    {
      "cell_type": "code",
      "metadata": {
        "id": "cujMoK_l7bON"
      },
      "source": [
        "import matplotlib.pyplot as plt\n",
        "\n",
        "from sklearn.metrics import confusion_matrix\n",
        "import numpy as np\n",
        "import matplotlib.pyplot as plt\n",
        "\n",
        "from sklearn import svm, datasets\n",
        "from sklearn.model_selection import train_test_split\n",
        "from sklearn.metrics import confusion_matrix\n",
        "from sklearn.utils.multiclass import unique_labels"
      ],
      "execution_count": null,
      "outputs": []
    },
    {
      "cell_type": "code",
      "metadata": {
        "id": "bKzhMftX8ANW",
        "colab": {
          "base_uri": "https://localhost:8080/",
          "height": 119
        },
        "outputId": "c27cd8dd-ee0a-4a94-badf-eca75e3b3792"
      },
      "source": [
        "pred = pred.cpu()\n",
        "label = label.cpu()\n",
        "cm = confusion_matrix(pred,label)\n",
        "print(cm)"
      ],
      "execution_count": null,
      "outputs": [
        {
          "output_type": "stream",
          "text": [
            "[[151 169  22  17 220 208]\n",
            " [132 147 283 294 105  93]\n",
            " [ 57  11   0  18  14  39]\n",
            " [  0   0   0   0   0   0]\n",
            " [  0   9  35  10   1   0]\n",
            " [  0   4   0   1   0   0]]\n"
          ],
          "name": "stdout"
        }
      ]
    },
    {
      "cell_type": "code",
      "metadata": {
        "id": "0rwIXVZ4V8Mw"
      },
      "source": [
        "os.mkdir('results')"
      ],
      "execution_count": null,
      "outputs": []
    },
    {
      "cell_type": "code",
      "metadata": {
        "id": "MAHKhbO0tB_x"
      },
      "source": [
        "# save results to files\n",
        "# np.save('results/confusion_holdout_daylight.npy',cm)\n",
        "# torch.save(pred, 'results/pred_holdout_daylight.pt')\n",
        "# torch.save(label, 'results/label_holdout_daylight.pt')\n",
        "torch.save(pred, 'results/pred_train_night_test_day.pt')\n",
        "torch.save(label, 'results/label_train_night_test_day.pt')"
      ],
      "execution_count": null,
      "outputs": []
    },
    {
      "cell_type": "code",
      "metadata": {
        "id": "GgvevQPA8wmq"
      },
      "source": [
        "# np.save('results/confusion_night.npy',cm)\n",
        "# torch.save(pred, 'results/s_pred_night.pt')\n",
        "# torch.save(label, 'results/s_label_night.pt')"
      ],
      "execution_count": null,
      "outputs": []
    },
    {
      "cell_type": "code",
      "metadata": {
        "id": "_SmDJQdWuoRS",
        "colab": {
          "base_uri": "https://localhost:8080/",
          "height": 34
        },
        "outputId": "9057b0c6-1855-45bb-c13d-ff1e3d3e5e5a"
      },
      "source": [
        "#print accuracy\n",
        "np.trace(cm)/np.sum(cm)"
      ],
      "execution_count": null,
      "outputs": [
        {
          "output_type": "execute_result",
          "data": {
            "text/plain": [
              "0.1465686274509804"
            ]
          },
          "metadata": {
            "tags": []
          },
          "execution_count": 165
        }
      ]
    },
    {
      "cell_type": "code",
      "metadata": {
        "id": "DHofyumuuuPY"
      },
      "source": [
        "#test\n",
        "\n",
        "# pred2= torch.load('results/pred_holdout_daylight.pt')\n",
        "# label2 = torch.load('results/label_holdout_daylight.pt')\n",
        "# pred3= torch.load('results/pred_holdout_3.pt')\n",
        "# label3 = torch.load('results/label_holdout_3.pt')\n",
        "# pred4 = torch.cat([pred2,pred3],0)\n",
        "# label4 = torch.cat([label2,label3],0)\n",
        "# cm2 = confusion_matrix(pred4,label4)\n",
        "# label2"
      ],
      "execution_count": null,
      "outputs": []
    },
    {
      "cell_type": "code",
      "metadata": {
        "id": "lHGn_x4l8guF"
      },
      "source": [
        "\n",
        "def plot_confusion_matrix(y_true, y_pred, classes,\n",
        "                          normalize=False,\n",
        "                          title=None,\n",
        "                          cmap=plt.cm.Blues):\n",
        "    \"\"\"\n",
        "    This function prints and plots the confusion matrix.\n",
        "    Normalization can be applied by setting `normalize=True`.\n",
        "    \"\"\"\n",
        "    if not title:\n",
        "        if normalize:\n",
        "            title = 'Normalized confusion matrix'\n",
        "        else:\n",
        "            title = 'Confusion matrix, without normalization'\n",
        "\n",
        "    # Compute confusion matrix\n",
        "    cm = confusion_matrix(y_true, y_pred)\n",
        "    # Only use the labels that appear in the data\n",
        "    classes = classes[unique_labels(y_true, y_pred)]\n",
        "    if normalize:\n",
        "        cm = cm.astype('float') / cm.sum(axis=1)[:, np.newaxis]\n",
        "        print(\"Normalized confusion matrix\")\n",
        "    else:\n",
        "        print('Confusion matrix, without normalization')\n",
        "\n",
        "    print(cm)\n",
        "\n",
        "    fig, ax = plt.subplots()\n",
        "    im = ax.imshow(cm, interpolation='nearest', cmap=cmap)\n",
        "    ax.figure.colorbar(im, ax=ax)\n",
        "    # We want to show all ticks...\n",
        "    ax.set(xticks=np.arange(cm.shape[1]),\n",
        "           yticks=np.arange(cm.shape[0]),\n",
        "           # ... and label them with the respective list entries\n",
        "           xticklabels=classes, yticklabels=classes,\n",
        "           title=title,\n",
        "           ylabel='True label',\n",
        "           xlabel='Predicted label')\n",
        "\n",
        "    # Rotate the tick labels and set their alignment.\n",
        "    plt.setp(ax.get_xticklabels(), rotation=45, ha=\"right\",\n",
        "             rotation_mode=\"anchor\")\n",
        "\n",
        "    # Loop over data dimensions and create text annotations.\n",
        "    fmt = '.2f' if normalize else 'd'\n",
        "    thresh = cm.max() / 2.\n",
        "    for i in range(cm.shape[0]):\n",
        "        for j in range(cm.shape[1]):\n",
        "            ax.text(j, i, format(cm[i, j], fmt),\n",
        "                    ha=\"center\", va=\"center\",\n",
        "                    color=\"white\" if cm[i, j] > thresh else \"black\")\n",
        "    fig.tight_layout()\n",
        "    return ax\n"
      ],
      "execution_count": null,
      "outputs": []
    },
    {
      "cell_type": "code",
      "metadata": {
        "id": "vtcr1et98hEa",
        "colab": {
          "base_uri": "https://localhost:8080/",
          "height": 429
        },
        "outputId": "255f6617-4ac4-4e4a-eaa6-9df434100cb3"
      },
      "source": [
        "# Plot non-normalized confusion matrix\n",
        "plot_confusion_matrix(label, pred, classes=np.ravel(image_datasets.classes),\n",
        "                      title='Confusion matrix')\n"
      ],
      "execution_count": null,
      "outputs": [
        {
          "output_type": "stream",
          "text": [
            "Confusion matrix, without normalization\n",
            "[[ 90   2   0   8   1   1]\n",
            " [  0 101   1   0   0   0]\n",
            " [  0   0 102   0   0   0]\n",
            " [  1   2   0  97   1   1]\n",
            " [  0   0   0   0 100   2]\n",
            " [  7   0   0   0  18  77]]\n"
          ],
          "name": "stdout"
        },
        {
          "output_type": "execute_result",
          "data": {
            "text/plain": [
              "<matplotlib.axes._subplots.AxesSubplot at 0x7f666fc820f0>"
            ]
          },
          "metadata": {
            "tags": []
          },
          "execution_count": 55
        },
        {
          "output_type": "display_data",
          "data": {
            "image/png": "[encoded data removed]",
            "text/plain": [
              "<Figure size 432x288 with 2 Axes>"
            ]
          },
          "metadata": {
            "tags": [],
            "needs_background": "light"
          }
        }
      ]
    },
    {
      "cell_type": "code",
      "metadata": {
        "id": "VFNnF23B9bhR",
        "colab": {
          "base_uri": "https://localhost:8080/",
          "height": 429
        },
        "outputId": "016dd253-b068-432c-941b-800e8bd392cf"
      },
      "source": [
        "# Plot normalized confusion matrix\n",
        "plot_confusion_matrix(label, pred, classes=np.ravel(image_datasets.classes), normalize=True,\n",
        "                      title='Confusion Matrix, Normalized')"
      ],
      "execution_count": null,
      "outputs": [
        {
          "output_type": "stream",
          "text": [
            "Normalized confusion matrix\n",
            "[[0.88235294 0.01960784 0.         0.07843137 0.00980392 0.00980392]\n",
            " [0.         0.99019608 0.00980392 0.         0.         0.        ]\n",
            " [0.         0.         1.         0.         0.         0.        ]\n",
            " [0.00980392 0.01960784 0.         0.95098039 0.00980392 0.00980392]\n",
            " [0.         0.         0.         0.         0.98039216 0.01960784]\n",
            " [0.06862745 0.         0.         0.         0.17647059 0.75490196]]\n"
          ],
          "name": "stdout"
        },
        {
          "output_type": "execute_result",
          "data": {
            "text/plain": [
              "<matplotlib.axes._subplots.AxesSubplot at 0x7f666fc07278>"
            ]
          },
          "metadata": {
            "tags": []
          },
          "execution_count": 56
        },
        {
          "output_type": "display_data",
          "data": {
            "image/png": "[encoded data removed]",
            "text/plain": [
              "<Figure size 432x288 with 2 Axes>"
            ]
          },
          "metadata": {
            "tags": [],
            "needs_background": "light"
          }
        }
      ]
    },
    {
      "cell_type": "code",
      "metadata": {
        "id": "npIFXItxzv2A",
        "colab": {
          "base_uri": "https://localhost:8080/",
          "height": 136
        },
        "outputId": "5ee3182a-13b9-43b6-b094-017a8af0acb6"
      },
      "source": [
        "#calculate overall confusion matrix\n",
        "\n",
        "pred1= torch.load('results/pred_holdout_1.pt')\n",
        "label1 = torch.load('results/label_holdout_1.pt')\n",
        "pred2= torch.load('results/pred_holdout_2.pt')\n",
        "label2 = torch.load('results/label_holdout_2.pt')\n",
        "pred3= torch.load('results/pred_holdout_3.pt')\n",
        "label3 = torch.load('results/label_holdout_3.pt')\n",
        "pred4= torch.load('results/pred_holdout_4.pt')\n",
        "label4 = torch.load('results/label_holdout_4.pt')\n",
        "\n",
        "pred0 = torch.cat([pred1,pred2,pred3,pred4],0)\n",
        "label0 = torch.cat([label1,label2,label3,label4],0)\n",
        "\n",
        "cm0 = confusion_matrix(pred0,label0)\n",
        "cm1 = confusion_matrix(pred1,label1)\n",
        "cm2 = confusion_matrix(pred2,label2)\n",
        "cm3 = confusion_matrix(pred3,label3)\n",
        "cm4 = confusion_matrix(pred4,label4)\n",
        "print(cm0)\n",
        "print(np.trace(cm0)/np.sum(cm0))"
      ],
      "execution_count": null,
      "outputs": [
        {
          "output_type": "stream",
          "text": [
            "[[933   1   0  32   4  30]\n",
            " [  8 954  31  25   8  13]\n",
            " [  0  52 973   9  20  10]\n",
            " [ 56   7  11 889  39  29]\n",
            " [  6   2   3  38 805 164]\n",
            " [ 17   4   2  27 142 774]]\n",
            "0.870872834259562\n"
          ],
          "name": "stdout"
        }
      ]
    },
    {
      "cell_type": "code",
      "metadata": {
        "id": "p4ailC7K48ty",
        "colab": {
          "base_uri": "https://localhost:8080/",
          "height": 534
        },
        "outputId": "41404dc6-ad41-400f-dcba-5818b040539a"
      },
      "source": [
        "# import torch\n",
        "# import pandas as  pd\n",
        "# import seaborn as sn\n",
        "# import matplotlib.pyplot as plt\n",
        "\n",
        "# label = label0.numpy()\n",
        "# pred = pred0.numpy()\n",
        "\n",
        "# data = {'Actual':    label,\n",
        "#         'Predicted': pred\n",
        "#         }\n",
        "# print(data)\n",
        "# df = pd.DataFrame(data, columns=['Actual','Predicted'])\n",
        "# print(df)\n",
        "# confusion_matrix = pd.crosstab(df['Actual'], df['Predicted'], rownames=['True Label'], colnames=['Predict Label'], margins = False).apply(lambda r: r/r.sum(), axis=1)\n",
        "\n",
        "# sn.heatmap(confusion_matrix, annot=True,fmt=\".1%\",cmap=\"YlGnBu\")\n",
        "# plt.show()"
      ],
      "execution_count": null,
      "outputs": [
        {
          "output_type": "stream",
          "text": [
            "{'Actual': array([0, 1, 5, ..., 0, 4, 0]), 'Predicted': array([0, 1, 5, ..., 0, 4, 0])}\n",
            "      Actual  Predicted\n",
            "0          0          0\n",
            "1          1          1\n",
            "2          5          5\n",
            "3          1          1\n",
            "4          1          1\n",
            "...      ...        ...\n",
            "6113       2          2\n",
            "6114       1          1\n",
            "6115       0          0\n",
            "6116       4          4\n",
            "6117       0          0\n",
            "\n",
            "[6118 rows x 2 columns]\n"
          ],
          "name": "stdout"
        },
        {
          "output_type": "display_data",
          "data": {
            "image/png": "[encoded data removed]",
            "text/plain": [
              "<Figure size 432x288 with 2 Axes>"
            ]
          },
          "metadata": {
            "tags": [],
            "needs_background": "light"
          }
        }
      ]
    },
    {
      "cell_type": "markdown",
      "metadata": {
        "id": "tVfiVbM2cvL5"
      },
      "source": [
        "# **Print Pretty Confusion Matrix**\n",
        "\n",
        "*   upload results files\n",
        "*   run the code\n",
        "\n"
      ]
    },
    {
      "cell_type": "code",
      "metadata": {
        "id": "NbdMmRxkcoIb"
      },
      "source": [
        "import matplotlib.pyplot as plt\n",
        "import numpy as np\n",
        "import torch\n",
        "from torch import nn\n",
        "from torch import optim\n",
        "import torch.nn.functional as F\n",
        "from torchvision import datasets, transforms, models,utils\n",
        "from torch.utils.data import DataLoader\n",
        "from PIL import Image\n",
        "import os\n",
        "from sklearn.metrics import confusion_matrix\n",
        "from sklearn import svm, datasets\n",
        "from sklearn.model_selection import train_test_split\n",
        "from sklearn.metrics import confusion_matrix\n",
        "from sklearn.utils.multiclass import unique_labels"
      ],
      "execution_count": null,
      "outputs": []
    },
    {
      "cell_type": "code",
      "metadata": {
        "id": "tqyMIFuScrNR",
        "colab": {
          "base_uri": "https://localhost:8080/",
          "height": 375
        },
        "outputId": "0b4d8cab-ecb9-4f07-9a8b-d92815f8f5f1"
      },
      "source": [
        "#calculate overall confusion matrix\n",
        "\n",
        "pred1= torch.load('results/pred_holdout_1.pt')\n",
        "label1 = torch.load('results/label_holdout_1.pt')\n",
        "pred2= torch.load('results/pred_holdout_2.pt')\n",
        "label2 = torch.load('results/label_holdout_2.pt')\n",
        "pred3= torch.load('results/pred_holdout_3.pt')\n",
        "label3 = torch.load('results/label_holdout_3.pt')\n",
        "pred4= torch.load('results/pred_holdout_4.pt')\n",
        "label4 = torch.load('results/label_holdout_4.pt')\n",
        "\n",
        "\n",
        "pred0 = torch.cat([pred1,pred2,pred3,pred4],0)\n",
        "label0 = torch.cat([label1,label2,label3,label4],0)\n",
        "\n",
        "cm0 = confusion_matrix(pred0,label0)\n",
        "cm1 = confusion_matrix(pred1,label1)\n",
        "cm2 = confusion_matrix(pred2,label2)\n",
        "cm3 = confusion_matrix(pred3,label3)\n",
        "cm4 = confusion_matrix(pred4,label4)\n",
        "print(cm0)\n",
        "print(np.trace(cm0)/np.sum(cm0))"
      ],
      "execution_count": null,
      "outputs": [
        {
          "output_type": "error",
          "ename": "FileNotFoundError",
          "evalue": "ignored",
          "traceback": [
            "\u001b[0;31m---------------------------------------------------------------------------\u001b[0m",
            "\u001b[0;31mFileNotFoundError\u001b[0m                         Traceback (most recent call last)",
            "\u001b[0;32m<ipython-input-157-8efa3550b94f>\u001b[0m in \u001b[0;36m<module>\u001b[0;34m()\u001b[0m\n\u001b[1;32m      1\u001b[0m \u001b[0;31m#calculate overall confusion matrix\u001b[0m\u001b[0;34m\u001b[0m\u001b[0;34m\u001b[0m\u001b[0;34m\u001b[0m\u001b[0m\n\u001b[1;32m      2\u001b[0m \u001b[0;34m\u001b[0m\u001b[0m\n\u001b[0;32m----> 3\u001b[0;31m \u001b[0mpred1\u001b[0m\u001b[0;34m=\u001b[0m \u001b[0mtorch\u001b[0m\u001b[0;34m.\u001b[0m\u001b[0mload\u001b[0m\u001b[0;34m(\u001b[0m\u001b[0;34m'results/pred_holdout_1.pt'\u001b[0m\u001b[0;34m)\u001b[0m\u001b[0;34m\u001b[0m\u001b[0;34m\u001b[0m\u001b[0m\n\u001b[0m\u001b[1;32m      4\u001b[0m \u001b[0mlabel1\u001b[0m \u001b[0;34m=\u001b[0m \u001b[0mtorch\u001b[0m\u001b[0;34m.\u001b[0m\u001b[0mload\u001b[0m\u001b[0;34m(\u001b[0m\u001b[0;34m'results/label_holdout_1.pt'\u001b[0m\u001b[0;34m)\u001b[0m\u001b[0;34m\u001b[0m\u001b[0;34m\u001b[0m\u001b[0m\n\u001b[1;32m      5\u001b[0m \u001b[0mpred2\u001b[0m\u001b[0;34m=\u001b[0m \u001b[0mtorch\u001b[0m\u001b[0;34m.\u001b[0m\u001b[0mload\u001b[0m\u001b[0;34m(\u001b[0m\u001b[0;34m'results/pred_holdout_2.pt'\u001b[0m\u001b[0;34m)\u001b[0m\u001b[0;34m\u001b[0m\u001b[0;34m\u001b[0m\u001b[0m\n",
            "\u001b[0;32m/usr/local/lib/python3.6/dist-packages/torch/serialization.py\u001b[0m in \u001b[0;36mload\u001b[0;34m(f, map_location, pickle_module, **pickle_load_args)\u001b[0m\n\u001b[1;32m    569\u001b[0m         \u001b[0mpickle_load_args\u001b[0m\u001b[0;34m[\u001b[0m\u001b[0;34m'encoding'\u001b[0m\u001b[0;34m]\u001b[0m \u001b[0;34m=\u001b[0m \u001b[0;34m'utf-8'\u001b[0m\u001b[0;34m\u001b[0m\u001b[0;34m\u001b[0m\u001b[0m\n\u001b[1;32m    570\u001b[0m \u001b[0;34m\u001b[0m\u001b[0m\n\u001b[0;32m--> 571\u001b[0;31m     \u001b[0;32mwith\u001b[0m \u001b[0m_open_file_like\u001b[0m\u001b[0;34m(\u001b[0m\u001b[0mf\u001b[0m\u001b[0;34m,\u001b[0m \u001b[0;34m'rb'\u001b[0m\u001b[0;34m)\u001b[0m \u001b[0;32mas\u001b[0m \u001b[0mopened_file\u001b[0m\u001b[0;34m:\u001b[0m\u001b[0;34m\u001b[0m\u001b[0;34m\u001b[0m\u001b[0m\n\u001b[0m\u001b[1;32m    572\u001b[0m         \u001b[0;32mif\u001b[0m \u001b[0m_is_zipfile\u001b[0m\u001b[0;34m(\u001b[0m\u001b[0mopened_file\u001b[0m\u001b[0;34m)\u001b[0m\u001b[0;34m:\u001b[0m\u001b[0;34m\u001b[0m\u001b[0;34m\u001b[0m\u001b[0m\n\u001b[1;32m    573\u001b[0m             \u001b[0;31m# The zipfile reader is going to advance the current file position.\u001b[0m\u001b[0;34m\u001b[0m\u001b[0;34m\u001b[0m\u001b[0;34m\u001b[0m\u001b[0m\n",
            "\u001b[0;32m/usr/local/lib/python3.6/dist-packages/torch/serialization.py\u001b[0m in \u001b[0;36m_open_file_like\u001b[0;34m(name_or_buffer, mode)\u001b[0m\n\u001b[1;32m    227\u001b[0m \u001b[0;32mdef\u001b[0m \u001b[0m_open_file_like\u001b[0m\u001b[0;34m(\u001b[0m\u001b[0mname_or_buffer\u001b[0m\u001b[0;34m,\u001b[0m \u001b[0mmode\u001b[0m\u001b[0;34m)\u001b[0m\u001b[0;34m:\u001b[0m\u001b[0;34m\u001b[0m\u001b[0;34m\u001b[0m\u001b[0m\n\u001b[1;32m    228\u001b[0m     \u001b[0;32mif\u001b[0m \u001b[0m_is_path\u001b[0m\u001b[0;34m(\u001b[0m\u001b[0mname_or_buffer\u001b[0m\u001b[0;34m)\u001b[0m\u001b[0;34m:\u001b[0m\u001b[0;34m\u001b[0m\u001b[0;34m\u001b[0m\u001b[0m\n\u001b[0;32m--> 229\u001b[0;31m         \u001b[0;32mreturn\u001b[0m \u001b[0m_open_file\u001b[0m\u001b[0;34m(\u001b[0m\u001b[0mname_or_buffer\u001b[0m\u001b[0;34m,\u001b[0m \u001b[0mmode\u001b[0m\u001b[0;34m)\u001b[0m\u001b[0;34m\u001b[0m\u001b[0;34m\u001b[0m\u001b[0m\n\u001b[0m\u001b[1;32m    230\u001b[0m     \u001b[0;32melse\u001b[0m\u001b[0;34m:\u001b[0m\u001b[0;34m\u001b[0m\u001b[0;34m\u001b[0m\u001b[0m\n\u001b[1;32m    231\u001b[0m         \u001b[0;32mif\u001b[0m \u001b[0;34m'w'\u001b[0m \u001b[0;32min\u001b[0m \u001b[0mmode\u001b[0m\u001b[0;34m:\u001b[0m\u001b[0;34m\u001b[0m\u001b[0;34m\u001b[0m\u001b[0m\n",
            "\u001b[0;32m/usr/local/lib/python3.6/dist-packages/torch/serialization.py\u001b[0m in \u001b[0;36m__init__\u001b[0;34m(self, name, mode)\u001b[0m\n\u001b[1;32m    208\u001b[0m \u001b[0;32mclass\u001b[0m \u001b[0m_open_file\u001b[0m\u001b[0;34m(\u001b[0m\u001b[0m_opener\u001b[0m\u001b[0;34m)\u001b[0m\u001b[0;34m:\u001b[0m\u001b[0;34m\u001b[0m\u001b[0;34m\u001b[0m\u001b[0m\n\u001b[1;32m    209\u001b[0m     \u001b[0;32mdef\u001b[0m \u001b[0m__init__\u001b[0m\u001b[0;34m(\u001b[0m\u001b[0mself\u001b[0m\u001b[0;34m,\u001b[0m \u001b[0mname\u001b[0m\u001b[0;34m,\u001b[0m \u001b[0mmode\u001b[0m\u001b[0;34m)\u001b[0m\u001b[0;34m:\u001b[0m\u001b[0;34m\u001b[0m\u001b[0;34m\u001b[0m\u001b[0m\n\u001b[0;32m--> 210\u001b[0;31m         \u001b[0msuper\u001b[0m\u001b[0;34m(\u001b[0m\u001b[0m_open_file\u001b[0m\u001b[0;34m,\u001b[0m \u001b[0mself\u001b[0m\u001b[0;34m)\u001b[0m\u001b[0;34m.\u001b[0m\u001b[0m__init__\u001b[0m\u001b[0;34m(\u001b[0m\u001b[0mopen\u001b[0m\u001b[0;34m(\u001b[0m\u001b[0mname\u001b[0m\u001b[0;34m,\u001b[0m \u001b[0mmode\u001b[0m\u001b[0;34m)\u001b[0m\u001b[0;34m)\u001b[0m\u001b[0;34m\u001b[0m\u001b[0;34m\u001b[0m\u001b[0m\n\u001b[0m\u001b[1;32m    211\u001b[0m \u001b[0;34m\u001b[0m\u001b[0m\n\u001b[1;32m    212\u001b[0m     \u001b[0;32mdef\u001b[0m \u001b[0m__exit__\u001b[0m\u001b[0;34m(\u001b[0m\u001b[0mself\u001b[0m\u001b[0;34m,\u001b[0m \u001b[0;34m*\u001b[0m\u001b[0margs\u001b[0m\u001b[0;34m)\u001b[0m\u001b[0;34m:\u001b[0m\u001b[0;34m\u001b[0m\u001b[0;34m\u001b[0m\u001b[0m\n",
            "\u001b[0;31mFileNotFoundError\u001b[0m: [Errno 2] No such file or directory: 'results/pred_holdout_1.pt'"
          ]
        }
      ]
    },
    {
      "cell_type": "code",
      "metadata": {
        "id": "H6MVU8vB7yhb"
      },
      "source": [
        "pred11= torch.load('results/s_pred_night.pt')\n",
        "label11 = torch.load('results/s_label_night.pt')\n",
        "cm11=confusion_matrix(pred11,label11)"
      ],
      "execution_count": null,
      "outputs": []
    },
    {
      "cell_type": "code",
      "metadata": {
        "id": "onubbWpQcuC8",
        "colab": {
          "base_uri": "https://localhost:8080/",
          "height": 289
        },
        "outputId": "a625a982-920e-43cc-e04a-067970cc9e8c"
      },
      "source": [
        "import torch\n",
        "import pandas as  pd\n",
        "import seaborn as sn\n",
        "import matplotlib.pyplot as plt\n",
        "import numpy as np\n",
        "import seaborn as sns\n",
        "\n",
        "sn.set_context('notebook')\n",
        "\n",
        "label = label.numpy()\n",
        "pred = pred.numpy()\n",
        "\n",
        "data = {'Actual':    label,\n",
        "        'Predicted': pred\n",
        "        }\n",
        "df = pd.DataFrame(data, columns=['Actual','Predicted'])\n",
        "df=df.replace(0, '2Hands')\n",
        "df=df.replace(1, 'Hugging')\n",
        "df=df.replace(2, 'Nothing')\n",
        "df=df.replace(3, 'Palm')\n",
        "df=df.replace(4, 'Point')\n",
        "df=df.replace(5, 'Punch')\n",
        "confusion_matrix = pd.crosstab(df['Actual'], df['Predicted'], rownames=['True Label'], colnames=['Predicted Label'], margins = False).apply(lambda r: r/r.sum(), axis=1)\n",
        "\n",
        "ax = sn.heatmap(confusion_matrix, annot=True,fmt=\".1%\",cmap=\"YlGnBu\",cbar_kws={'ticks': [0, 0.2,0.4,0.6,0.8,1]},vmax=1,vmin=0)\n",
        "           \n",
        "plt.show()\n"
      ],
      "execution_count": null,
      "outputs": [
        {
          "output_type": "display_data",
          "data": {
            "image/png": "[encoded data removed]",
            "text/plain": [
              "<Figure size 432x288 with 2 Axes>"
            ]
          },
          "metadata": {
            "tags": [],
            "needs_background": "light"
          }
        }
      ]
    },
    {
      "cell_type": "code",
      "metadata": {
        "id": "vz1RWy-zc3N2"
      },
      "source": [
        "pred_dusk= torch.load('results/pred_holdout_dusk.pt')\n",
        "label_dusk = torch.load('results/label_holdout_dusk.pt')\n",
        "pred_night= torch.load('results/pred_holdout_night.pt')\n",
        "label_night = torch.load('results/label_holdout_night.pt')\n",
        "pred_daylight= torch.load('results/pred_holdout_daylight.pt')\n",
        "label_daylight = torch.load('results/label_holdout_daylight.pt')\n",
        "\n",
        "pred_total = torch.cat([pred_daylight,pred_dusk,pred_night],0)\n",
        "label_total = torch.cat([label_daylight,label_dusk,label_night],0)\n",
        "\n",
        "\n",
        "\n",
        "cm_total = confusion_matrix(pred_total,label_total)\n",
        "cm_dusk = confusion_matrix(pred_dusk,label_dusk)\n",
        "cm_night = confusion_matrix(pred_night,label_night)\n",
        "cm_daylight = confusion_matrix(pred_daylight,label_daylight)\n",
        "\n",
        "print(cm_daylight)\n",
        "print(np.trace(cm_total)/np.sum(cm_total))"
      ],
      "execution_count": null,
      "outputs": []
    },
    {
      "cell_type": "code",
      "metadata": {
        "id": "tSOqGoF-c6Qq"
      },
      "source": [
        "import torch\n",
        "import pandas as  pd\n",
        "import seaborn as sn\n",
        "import matplotlib.pyplot as plt\n",
        "import numpy as np\n",
        "import seaborn as sns\n",
        "\n",
        "sn.set_context('notebook')\n",
        "\n",
        "label = label_total.numpy()\n",
        "pred = pred_total.numpy()\n",
        "\n",
        "data = {'Actual':    label,\n",
        "        'Predicted': pred\n",
        "        }\n",
        "df = pd.DataFrame(data, columns=['Actual','Predicted'])\n",
        "df=df.replace(0, '2Hands')\n",
        "df=df.replace(1, 'Hugging')\n",
        "df=df.replace(2, 'Nothing')\n",
        "df=df.replace(3, 'Palm')\n",
        "df=df.replace(4, 'Point')\n",
        "df=df.replace(5, 'Punch')\n",
        "confusion_matrix = pd.crosstab(df['Actual'], df['Predicted'], rownames=['True Label'], colnames=['Predicted Label'], margins = False).apply(lambda r: r/r.sum(), axis=1)\n",
        "#confusion_matrix.insert(1, 'Hugging', 0)\n",
        "ax = sn.heatmap(confusion_matrix, annot=True,fmt=\".1%\",cmap=\"YlGnBu\",cbar_kws={'ticks': [0, 0.2,0.4,0.6,0.8,1]},vmax=1,vmin=0)\n",
        "           \n",
        "plt.show()"
      ],
      "execution_count": null,
      "outputs": []
    },
    {
      "cell_type": "markdown",
      "metadata": {
        "id": "YUpgH_0eVRji"
      },
      "source": [
        "# **Print prediction results**"
      ]
    },
    {
      "cell_type": "code",
      "metadata": {
        "id": "x6F5W_kS0lYO"
      },
      "source": [
        "def process_image(image, isPil=False):\n",
        "    ''' Scales, crops, and normalizes a PIL image for a PyTorch model,\n",
        "        returns an Numpy array\n",
        "    '''\n",
        "    \n",
        "    \n",
        "    if not isPil:\n",
        "      img = Image.open(image)\n",
        "    else:\n",
        "      img = image\n",
        "    img_loader = transforms.Compose([\n",
        "        transforms.Resize(size=(318,235)),\n",
        "        transforms.Lambda(lambda img: transforms.functional.crop(img, 10,40,220,150)),\n",
        "        transforms.Lambda(lambda img: transforms.functional.adjust_contrast(img, 3)),\n",
        "        transforms.ToTensor(),\n",
        "        transforms.Normalize(mean,\n",
        "                             std)  # Imagenet standards\n",
        "    ])\n",
        "    img = img_loader(img)\n",
        "    return img\n",
        "  \n",
        " \n",
        "#ima = process_image(Image.open('daylight/train/palm/105_1.jpg'),True)"
      ],
      "execution_count": null,
      "outputs": []
    },
    {
      "cell_type": "code",
      "metadata": {
        "id": "byB3fJUh-UtH",
        "colab": {
          "base_uri": "https://localhost:8080/",
          "height": 34
        },
        "outputId": "827d9c68-d79e-4c51-be21-f25fb976d564"
      },
      "source": [
        "# ima.shape"
      ],
      "execution_count": null,
      "outputs": [
        {
          "output_type": "execute_result",
          "data": {
            "text/plain": [
              "torch.Size([3, 220, 150])"
            ]
          },
          "metadata": {
            "tags": []
          },
          "execution_count": 48
        }
      ]
    },
    {
      "cell_type": "code",
      "metadata": {
        "id": "b2Gst_EZ2Etr",
        "colab": {
          "base_uri": "https://localhost:8080/",
          "height": 286
        },
        "outputId": "4c550fe3-127b-40a0-da39-ba1478f27ae2"
      },
      "source": [
        "# imshow(ima)"
      ],
      "execution_count": null,
      "outputs": [
        {
          "output_type": "execute_result",
          "data": {
            "text/plain": [
              "<matplotlib.axes._subplots.AxesSubplot at 0x7ff5086186a0>"
            ]
          },
          "metadata": {
            "tags": []
          },
          "execution_count": 49
        },
        {
          "output_type": "display_data",
          "data": {
            "image/png": "[encoded data removed]",
            "text/plain": [
              "<Figure size 432x288 with 1 Axes>"
            ]
          },
          "metadata": {
            "tags": []
          }
        }
      ]
    },
    {
      "cell_type": "code",
      "metadata": {
        "id": "kCl07n-IGicV"
      },
      "source": [
        "model=model.cpu()"
      ],
      "execution_count": null,
      "outputs": []
    },
    {
      "cell_type": "markdown",
      "metadata": {
        "id": "bVSTOGnF7hb4"
      },
      "source": [
        ""
      ]
    },
    {
      "cell_type": "code",
      "metadata": {
        "id": "cPJ8g80m2MTB"
      },
      "source": [
        "def predict(ima, model, topk=6):\n",
        "    ''' Predict the class (or classes) of an image using a trained deep learning model.\n",
        "    '''\n",
        "    \n",
        "    image = ima.unsqueeze_(0)\n",
        "    #print(image.shape)\n",
        "    \n",
        "    with torch.no_grad(): \n",
        "        output = model.forward(image)\n",
        "        probabililty = torch.exp(output)\n",
        "        \n",
        "    \n",
        "    prob,cla = probabililty.topk(topk)\n",
        "    #print(cla)\n",
        "    \n",
        "    return prob.cpu().numpy().squeeze(), cla.cpu().numpy().squeeze()\n",
        "    \n",
        "    # TODO: Implement the code to predict the class from an image file\n",
        "# import time\n",
        "# t1=time.time()\n",
        "# image = process_image('daylight/train/palm/105_1.jpg')\n",
        "# #print(model)\n",
        "# predict(image, model)\n",
        "# t2=time.time()\n",
        "# print('tiempo', str(t2-t1))"
      ],
      "execution_count": null,
      "outputs": []
    },
    {
      "cell_type": "code",
      "metadata": {
        "id": "FCODOV6x2bdM"
      },
      "source": [
        "image_path = 'daylight/train/palm/50_1.jpg'"
      ],
      "execution_count": null,
      "outputs": []
    },
    {
      "cell_type": "code",
      "metadata": {
        "id": "wUjyNiz02tb3"
      },
      "source": [
        "def view_classify(img, predicted_probability, predicted_class,clas):\n",
        "    ''' Function for viewing an image and it's predicted classes.\n",
        "    '''\n",
        "    \n",
        "    length = len(predicted_probability)\n",
        "    \n",
        "    fig, (ax1, ax2) = plt.subplots(figsize=(6,9), ncols=2)\n",
        "    imshow(img,ax1,title=image_datasets.classes[clas])\n",
        "    ax1.axis('off')\n",
        "    ax2.barh(np.arange(length), predicted_probability)\n",
        "    ax2.set_aspect(0.1)\n",
        "    ax2.set_yticks(np.arange(length))\n",
        "    ax2.set_yticklabels([image_datasets.classes[i] for i in predicted_class], size='small');\n",
        "    ax2.set_title('Class Probability')\n",
        "    ax2.set_xlim(0, 1.1)\n",
        "\n",
        "    plt.tight_layout()"
      ],
      "execution_count": null,
      "outputs": []
    },
    {
      "cell_type": "code",
      "metadata": {
        "id": "jBJ84L-fuHHQ",
        "colab": {
          "base_uri": "https://localhost:8080/",
          "height": 34
        },
        "outputId": "4a237c3b-bde9-42ad-f7f8-2097db840234"
      },
      "source": [
        "image_datasets.classes"
      ],
      "execution_count": null,
      "outputs": [
        {
          "output_type": "execute_result",
          "data": {
            "text/plain": [
              "['2hands', 'hugging', 'nothing', 'palm', 'point', 'punch']"
            ]
          },
          "metadata": {
            "tags": []
          },
          "execution_count": 54
        }
      ]
    },
    {
      "cell_type": "code",
      "metadata": {
        "id": "GtK-OfSO3w3s",
        "colab": {
          "base_uri": "https://localhost:8080/",
          "height": 305
        },
        "outputId": "8f29dba8-f64a-403f-9f02-31161be47ce0"
      },
      "source": [
        "img = process_image(image_path)\n",
        "image=process_image(image_path)\n",
        "predicted_probability, predicted_class = predict(img,model)\n",
        "\n",
        "view_classify(image, predicted_probability, predicted_class, 3)"
      ],
      "execution_count": null,
      "outputs": [
        {
          "output_type": "display_data",
          "data": {
            "image/png": "[encoded data removed]",
            "text/plain": [
              "<Figure size 432x648 with 2 Axes>"
            ]
          },
          "metadata": {
            "tags": []
          }
        }
      ]
    },
    {
      "cell_type": "code",
      "metadata": {
        "id": "lniLbA8C31bW",
        "colab": {
          "base_uri": "https://localhost:8080/",
          "height": 51
        },
        "outputId": "97d5e322-ba2d-44c3-8729-a2874aee8d95"
      },
      "source": [
        "# import cv2\n",
        "# from matplotlib import pyplot as plt\n",
        "# from skimage.io import imread\n",
        "# from skimage.transform import resize\n",
        "# from skimage import color, img_as_float\n",
        "# from google.colab.patches import cv2_imshow\n",
        "# import numpy as np\n",
        "# vidcap = cv2.VideoCapture('video/night_test.mov')\n",
        "# success,image = vidcap.read()\n",
        "# count = 0\n",
        "# images = []\n",
        "# flat_data = []\n",
        "# target = []\n",
        "# frame=None\n",
        "# print(success)\n",
        "# frame_width = vidcap.get(3)\n",
        "# frame_height = vidcap.get(4)\n",
        "# print(frame_height)\n",
        "# #out = cv2.VideoWriter('outpy.avi',cv2.VideoWriter_fourcc('M','J','P','G'),10,(frame_width,frame_height))\n",
        "# #out = cv2.VideoWriter('outpy.mov',apiPreference = cv::CAP_FFMPEG, fourcc = cv2.VideoWriter_fourcc('M','J','P','G'), fps= 10)\n",
        "# fourcc = cv2.VideoWriter_fourcc(*\"XVID\")\n",
        "# out = cv2.VideoWriter('output.mov', apiPreference=0, fourcc = fourcc, fps = 10, frameSize = (int(frame_width),int(frame_height)), isColor = True)\n",
        "# i = 0\n",
        "# while cv2.waitKey(20):\n",
        "#     rv, frame = vidcap.read()\n",
        "    \n",
        "#     if rv:\n",
        "#       if i%10 == 0:\n",
        "#         image = frame\n",
        "#         m=frame\n",
        "\n",
        "#         img = cv2.cvtColor(frame, cv2.COLOR_BGR2RGB)\n",
        "#         im_pil = Image.fromarray(img)\n",
        "\n",
        "\n",
        "#         img = process_image(im_pil, isPil=True)\n",
        "\n",
        "#         predicted_probability, predicted_class = predict(img, model)\n",
        "#         m = np.argmax(predicted_probability)\n",
        "#         #clase=max(list(zip(predicted_class,predicted_probability)), key=lambda x:x[1])\n",
        "#         #k=image_datasets.classes[clase[0]]\n",
        "#         k=image_datasets.classes[predicted_class[m]]\n",
        "#         cv2.putText(frame, k, (50, 50), cv2.FONT_ITALIC, 0.8, 255)\n",
        "#         out.write(frame)\n",
        "#         cv2_imshow(image)\n",
        "#       i = i+1\n",
        "#     else:\n",
        "#       break\n",
        "\n",
        "      \n",
        "# vidcap.release()\n",
        "# out.release()"
      ],
      "execution_count": null,
      "outputs": [
        {
          "output_type": "stream",
          "text": [
            "False\n",
            "0.0\n"
          ],
          "name": "stdout"
        }
      ]
    },
    {
      "cell_type": "code",
      "metadata": {
        "id": "GIo6D_qbBMZk"
      },
      "source": [
        "# import cv2\n",
        "# import numpy as np\n",
        "\n",
        "# vidcap = cv2.VideoCapture('video/test_0701.mov')\n",
        "# if (vidcap.isOpened() == False):\n",
        "#   print(\"Unable to read video\")\n"
      ],
      "execution_count": null,
      "outputs": []
    }
  ]
}